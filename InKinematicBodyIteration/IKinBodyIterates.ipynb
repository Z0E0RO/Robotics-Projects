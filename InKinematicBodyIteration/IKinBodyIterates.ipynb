{
 "cells": [
  {
   "cell_type": "code",
   "execution_count": 1,
   "id": "b5be0539",
   "metadata": {},
   "outputs": [],
   "source": [
    "import modern_robotics as mr\n",
    "import numpy as np\n",
    "import pandas as pd"
   ]
  },
  {
   "cell_type": "code",
   "execution_count": 12,
   "id": "c450fe1b",
   "metadata": {},
   "outputs": [],
   "source": [
    "def IKinBodyIterates(Blist, M, T, thetalist0, eomg, ev):\n",
    "    \"\"\"Computes inverse kinematics in the body frame for an open chain robot\n",
    "\n",
    "    :param Blist: The joint screw axes in the end-effector frame when the\n",
    "                  manipulator is at the home position, in the format of a\n",
    "                  matrix with axes as the columns\n",
    "    :param M: The home configuration of the end-effector\n",
    "    :param T: The desired end-effector configuration Tsd\n",
    "    :param thetalist0: An initial guess of joint angles that are close to\n",
    "                       satisfying Tsd\n",
    "    :param eomg: A small positive tolerance on the end-effector orientation\n",
    "                 error. The returned joint angles must give an end-effector\n",
    "                 orientation error less than eomg\n",
    "    :param ev: A small positive tolerance on the end-effector linear position\n",
    "               error. The returned joint angles must give an end-effector\n",
    "               position error less than ev\n",
    "    :return thetalist: Joint angles that achieve T within the specified\n",
    "                       tolerances,\n",
    "    :return success: A logical value where TRUE means that the function found\n",
    "                     a solution and FALSE means that it ran through the set\n",
    "                     number of maximum iterations without finding a solution\n",
    "                     within the tolerances eomg and ev.\n",
    "    Uses an iterative Newton-Raphson root-finding method.\n",
    "    The maximum number of iterations before the algorithm is terminated has\n",
    "    been hardcoded in as a variable called maxiterations. It is set to 20 at\n",
    "    the start of the function, but can be changed if needed.\n",
    "\n",
    "    Example Input:\n",
    "        Blist = np.array([[0, 0, -1, 2, 0,   0],\n",
    "                          [0, 0,  0, 0, 1,   0],\n",
    "                          [0, 0,  1, 0, 0, 0.1]]).T\n",
    "        M = np.array([[-1, 0,  0, 0],\n",
    "                      [ 0, 1,  0, 6],\n",
    "                      [ 0, 0, -1, 2],\n",
    "                      [ 0, 0,  0, 1]])\n",
    "        T = np.array([[0, 1,  0,     -5],\n",
    "                      [1, 0,  0,      4],\n",
    "                      [0, 0, -1, 1.6858],\n",
    "                      [0, 0,  0,      1]])\n",
    "        thetalist0 = np.array([1.5, 2.5, 3])\n",
    "        eomg = 0.01\n",
    "        ev = 0.001\n",
    "    Output:\n",
    "        Iteration 0 :\n",
    "\n",
    "        joint vector :\n",
    "        [ 6.  -2.5  4.5 -5.   3.5  1.5]\n",
    "\n",
    "        SE(3) end - effector config :\n",
    "        [[-0.20506046  0.9761136   0.07178048 -0.43434202]\n",
    "         [ 0.03383113  0.08036412 -0.99619128  0.15994292]\n",
    "         [-0.97816443 -0.20185103 -0.04950253  0.07789615]\n",
    "         [ 0.          0.          0.          1.        ]]\n",
    "\n",
    "        error twist V_b :\n",
    "        [ 0.07670657 -0.04201424  0.20515211 -0.01645098 -0.06999878  0.05694033]\n",
    "\n",
    "        angular error magnitude ||omega_b|| : 0.22301677980707918\n",
    "\n",
    "        linear error magnitude ||v_b|| : 0.09172058041018143\n",
    "        (np.array([1.57073819, 2.999667, 3.14153913]), True)\n",
    "    \"\"\"\n",
    "    thetalist = np.array(thetalist0).copy()\n",
    "    i = 0\n",
    "    maxiterations = 20\n",
    "    end_effector_config = mr.FKinBody(M, Blist, thetalist)\n",
    "    Vb = mr.se3ToVec(mr.MatrixLog6(np.dot(mr.TransInv(end_effector_config), T)))\n",
    "    omega_b = np.linalg.norm([Vb[0:3]])\n",
    "    v_b = np.linalg.norm([Vb[3:6]])\n",
    "    err = omega_b > eomg \\\n",
    "          or v_b > ev\n",
    "    joint_vector = []\n",
    "    while err and i < maxiterations:\n",
    "        print(f\"Iteration {i} :\")\n",
    "        print(\"\")\n",
    "        print(\"joint vector :\")\n",
    "        print(thetalist)\n",
    "        print(\"\")\n",
    "        print(\"SE(3) end - effector config :\")\n",
    "        print(end_effector_config)\n",
    "        print(\"\")\n",
    "        print(\"error twist V_b :\")\n",
    "        print(Vb)\n",
    "        print(\"\")\n",
    "        print(f\"angular error magnitude ||omega_b|| : {omega_b}\")\n",
    "        print(\"\")\n",
    "        print(f\"linear error magnitude ||v_b|| : {v_b}\")\n",
    "        joint_vector.append(thetalist.copy())\n",
    "        i = i + 1\n",
    "        thetalist = thetalist \\\n",
    "                    + np.dot(np.linalg.pinv(mr.JacobianBody(Blist, \\\n",
    "                                                         thetalist)), Vb)\n",
    "        end_effector_config = mr.FKinBody(M, Blist, thetalist)\n",
    "        Vb \\\n",
    "        = mr.se3ToVec(mr.MatrixLog6(np.dot(mr.TransInv(end_effector_config), T)))\n",
    "        omega_b = np.linalg.norm([Vb[0:3]])\n",
    "        v_b = np.linalg.norm([Vb[3:6]])\n",
    "        err = omega_b > eomg \\\n",
    "              or v_b > ev\n",
    "    print(f\"Iteration {i} :\")\n",
    "    print(\"\")\n",
    "    print(\"joint vector :\")\n",
    "    print(thetalist)\n",
    "    print(\"\")\n",
    "    print(\"SE(3) end - effector config :\")\n",
    "    print(end_effector_config)\n",
    "    print(\"\")\n",
    "    print(\"error twist V_b :\")\n",
    "    print(Vb)\n",
    "    print(\"\")\n",
    "    print(f\"angular error magnitude ||omega_b|| : {omega_b}\")\n",
    "    print(\"\")\n",
    "    print(f\"linear error magnitude ||v_b|| : {v_b}\")\n",
    "    joint_vector.append(thetalist.copy())\n",
    "    \n",
    "    pd.DataFrame(joint_vector).to_csv(\"iterates.csv\", header = False, index = False)\n",
    "    \n",
    "    return (thetalist, not err)\n"
   ]
  },
  {
   "cell_type": "code",
   "execution_count": 13,
   "id": "219f3762",
   "metadata": {},
   "outputs": [
    {
     "data": {
      "text/plain": [
       "array([[ 0. ,  1. ,  0. , -0.5],\n",
       "       [ 0. ,  0. , -1. ,  0.1],\n",
       "       [-1. ,  0. ,  0. ,  0.1],\n",
       "       [ 0. ,  0. ,  0. ,  1. ]])"
      ]
     },
     "execution_count": 13,
     "metadata": {},
     "output_type": "execute_result"
    }
   ],
   "source": [
    "T_desired = np.array([[0,1,0,-0.5],[0,0,-1,0.1],[-1,0,0,0.1],[0,0,0,1]])\n",
    "T_desired"
   ]
  },
  {
   "cell_type": "code",
   "execution_count": 14,
   "id": "9b75aa7e",
   "metadata": {},
   "outputs": [],
   "source": [
    "e_omega = 0.001\n",
    "e_vel = 0.0001"
   ]
  },
  {
   "cell_type": "code",
   "execution_count": 15,
   "id": "a64ade03",
   "metadata": {},
   "outputs": [
    {
     "data": {
      "text/plain": [
       "array([[-1.   ,  0.   ,  0.   ,  0.817],\n",
       "       [ 0.   ,  0.   ,  1.   ,  0.191],\n",
       "       [ 0.   ,  1.   ,  0.   , -0.005],\n",
       "       [ 0.   ,  0.   ,  0.   ,  1.   ]])"
      ]
     },
     "execution_count": 15,
     "metadata": {},
     "output_type": "execute_result"
    }
   ],
   "source": [
    "M = np.array([[-1, 0, 0, 0.817],[0, 0, 1, 0.191], [0, 1, 0, -0.005], [0, 0, 0, 1]])\n",
    "B_list = np.array([[0, 1, 0, 0.191, 0, 0.817], [0, 0, 1, 0.095, -0.817, 0], [0, 0, 1, 0.095, -0.392, 0],\n",
    "                   [0, 0, 1, 0.095, 0, 0],[0, -1, 0, -0.082, 0, 0], [0, 0, 1, 0, 0, 0]]).T\n",
    "M"
   ]
  },
  {
   "cell_type": "code",
   "execution_count": 16,
   "id": "ac6bacdb",
   "metadata": {},
   "outputs": [
    {
     "data": {
      "text/plain": [
       "array([[ 0.   ,  0.   ,  0.   ,  0.   ,  0.   ,  0.   ],\n",
       "       [ 1.   ,  0.   ,  0.   ,  0.   , -1.   ,  0.   ],\n",
       "       [ 0.   ,  1.   ,  1.   ,  1.   ,  0.   ,  1.   ],\n",
       "       [ 0.191,  0.095,  0.095,  0.095, -0.082,  0.   ],\n",
       "       [ 0.   , -0.817, -0.392,  0.   ,  0.   ,  0.   ],\n",
       "       [ 0.817,  0.   ,  0.   ,  0.   ,  0.   ,  0.   ]])"
      ]
     },
     "execution_count": 16,
     "metadata": {},
     "output_type": "execute_result"
    }
   ],
   "source": [
    "B_list"
   ]
  },
  {
   "cell_type": "code",
   "execution_count": 17,
   "id": "bb756a07",
   "metadata": {},
   "outputs": [],
   "source": [
    "theta_list_0 = np.array([6.0000, -2.5000, 4.5000, -5.0000, 3.5000, 1.5000])"
   ]
  },
  {
   "cell_type": "code",
   "execution_count": 18,
   "id": "baeb5ca1",
   "metadata": {},
   "outputs": [
    {
     "name": "stdout",
     "output_type": "stream",
     "text": [
      "Iteration 0 :\n",
      "\n",
      "joint vector :\n",
      "[ 6.  -2.5  4.5 -5.   3.5  1.5]\n",
      "\n",
      "SE(3) end - effector config :\n",
      "[[-0.20506046  0.9761136   0.07178048 -0.43434202]\n",
      " [ 0.03383113  0.08036412 -0.99619128  0.15994292]\n",
      " [-0.97816443 -0.20185103 -0.04950253  0.07789615]\n",
      " [ 0.          0.          0.          1.        ]]\n",
      "\n",
      "error twist V_b :\n",
      "[ 0.07670657 -0.04201424  0.20515211 -0.01645098 -0.06999878  0.05694033]\n",
      "\n",
      "angular error magnitude ||omega_b|| : 0.22301677980707918\n",
      "\n",
      "linear error magnitude ||v_b|| : 0.09172058041018143\n",
      "Iteration 1 :\n",
      "\n",
      "joint vector :\n",
      "[ 6.15359044 -2.46429203  4.52296578 -5.13575155  3.27440416  1.64057521]\n",
      "\n",
      "SE(3) end - effector config :\n",
      "[[ 0.00580543  0.99997882  0.00294346 -0.49022025]\n",
      " [ 0.0085542   0.00289374 -0.99995923  0.09184466]\n",
      " [-0.99994656  0.00583038 -0.00853722  0.10418103]\n",
      " [ 0.          0.          0.          1.        ]]\n",
      "\n",
      "error twist V_b :\n",
      "[ 0.00291866 -0.00854588 -0.00581802  0.00418742 -0.00978002 -0.00815174]\n",
      "\n",
      "angular error magnitude ||omega_b|| : 0.010742436116418421\n",
      "\n",
      "linear error magnitude ||v_b|| : 0.013402763954116586\n",
      "Iteration 2 :\n",
      "\n",
      "joint vector :\n",
      "[ 6.14009876 -2.48157808  4.5425714  -5.20742347  3.28436038  1.56590042]\n",
      "\n",
      "SE(3) end - effector config :\n",
      "[[-1.07857405e-04  9.99999943e-01 -3.20467117e-04 -4.99917124e-01]\n",
      " [-6.88256362e-04 -3.20541277e-04 -9.99999712e-01  1.00145274e-01]\n",
      " [-9.99999757e-01 -1.07636811e-04  6.88290895e-04  9.97967540e-02]\n",
      " [ 0.00000000e+00  0.00000000e+00  0.00000000e+00  1.00000000e+00]]\n",
      "\n",
      "error twist V_b :\n",
      "[-3.20504228e-04  6.88273696e-04  1.07747118e-04 -2.03191567e-04\n",
      " -8.28640117e-05  1.45357343e-04]\n",
      "\n",
      "angular error magnitude ||omega_b|| : 0.000766846192050995\n",
      "\n",
      "linear error magnitude ||v_b|| : 0.0002632147687860549\n",
      "Iteration 3 :\n",
      "\n",
      "joint vector :\n",
      "[ 6.14040452 -2.48161299  4.54406518 -5.20404431  3.28437175  1.57079676]\n",
      "\n",
      "SE(3) end - effector config :\n",
      "[[-1.00925651e-07  1.00000000e+00 -1.68508083e-06 -4.99999928e-01]\n",
      " [ 7.69647757e-08 -1.68508082e-06 -1.00000000e+00  1.00000053e-01]\n",
      " [-1.00000000e+00 -1.00925781e-07 -7.69646056e-08  9.99993055e-02]\n",
      " [ 0.00000000e+00  0.00000000e+00  0.00000000e+00  1.00000000e+00]]\n",
      "\n",
      "error twist V_b :\n",
      "[-1.68508082e-06 -7.69646906e-08  1.00925716e-07 -6.94490434e-07\n",
      " -7.18819624e-08  5.34943630e-08]\n",
      "\n",
      "angular error magnitude ||omega_b|| : 1.6898541187076447e-06\n",
      "\n",
      "linear error magnitude ||v_b|| : 7.002468329055036e-07\n"
     ]
    }
   ],
   "source": [
    "theta_list, converge = IKinBodyIterates(B_list, M, T_desired, theta_list_0, e_omega, e_vel)"
   ]
  },
  {
   "cell_type": "code",
   "execution_count": 19,
   "id": "5e7b03e0",
   "metadata": {},
   "outputs": [
    {
     "data": {
      "text/plain": [
       "array([ 6.14040452, -2.48161299,  4.54406518, -5.20404431,  3.28437175,\n",
       "        1.57079676])"
      ]
     },
     "execution_count": 19,
     "metadata": {},
     "output_type": "execute_result"
    }
   ],
   "source": [
    "theta_list"
   ]
  },
  {
   "cell_type": "code",
   "execution_count": null,
   "id": "7203c4ac",
   "metadata": {},
   "outputs": [],
   "source": []
  }
 ],
 "metadata": {
  "kernelspec": {
   "display_name": "Python 3 (ipykernel)",
   "language": "python",
   "name": "python3"
  },
  "language_info": {
   "codemirror_mode": {
    "name": "ipython",
    "version": 3
   },
   "file_extension": ".py",
   "mimetype": "text/x-python",
   "name": "python",
   "nbconvert_exporter": "python",
   "pygments_lexer": "ipython3",
   "version": "3.11.3"
  }
 },
 "nbformat": 4,
 "nbformat_minor": 5
}
